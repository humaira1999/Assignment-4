{
 "cells": [
  {
   "cell_type": "code",
   "execution_count": 1,
   "metadata": {},
   "outputs": [
    {
     "name": "stdout",
     "output_type": "stream",
     "text": [
      "First_name : Memoona\n",
      "Last_name : Ali\n",
      "Age : 21\n",
      "City : Karachi\n",
      "\n",
      "  Add Qualification \n",
      "\n",
      "First_name : Memoona\n",
      "Last_name : Ali\n",
      "Age : 21\n",
      "City : Karachi\n",
      "qualification : Graduation\n",
      "\n",
      "  Update Qualification \n",
      "\n",
      "First_name : Memoona\n",
      "Last_name : Ali\n",
      "Age : 21\n",
      "City : Karachi\n",
      "qualification : High Academic\n"
     ]
    }
   ],
   "source": [
    "person_dictionry={\"First_name\":\"Memoona\",\"Last_name\":\"Ali\",\"Age\":\"21\",\"City\":\"Karachi\"}\n",
    "for key, value in person_dictionry.items():\n",
    "    print(key+\" : \"+value)\n",
    "    \n",
    "print(\"\\n  Add Qualification \\n\")\n",
    "\n",
    "person_dictionry[\"qualification\"]=\"Graduation\"\n",
    "for key, value in person_dictionry.items():\n",
    "    print(key+\" : \"+value)\n",
    "    \n",
    "print(\"\\n  Update Qualification \\n\")\n",
    "\n",
    "person_dictionry[\"qualification\"]=\"High Academic\"\n",
    "for key, value in person_dictionry.items():\n",
    "    print(key+\" : \"+value)\n"
   ]
  },
  {
   "cell_type": "code",
   "execution_count": 2,
   "metadata": {},
   "outputs": [
    {
     "name": "stdout",
     "output_type": "stream",
     "text": [
      "\n",
      "Peshawar\n",
      "\n",
      "Country : Pakistan\n",
      "Population : 1970042\n",
      "Fact : It is the capital of Khyber Pakhtunkhwa and a perfect representation of the province. This city has a rich historical background and an even richer culture.\n",
      "\n",
      "Multan\n",
      "\n",
      "Country : Pakistan\n",
      "Population : 1871843\n",
      "Fact : Multan, the City of the Saints, is a city with a rich, fascinating history and amazing people.\n",
      "\n",
      "Islamabad\n",
      "\n",
      "Puntry : Pakistan\n",
      "Ppulation : 1014825\n",
      "Fct : Multan, the City of the Saints, is a city with a rich, fascinating history and amazing people.\n"
     ]
    }
   ],
   "source": [
    "cities={\n",
    "    \"Peshawar\":{\n",
    "        \"Country\":\"Pakistan\",\n",
    "        \"Population\":1970042,\n",
    "        \"Fact\":\"It is the capital of Khyber Pakhtunkhwa and a perfect representation of the province. This city has a rich historical background and an even richer culture.\"\n",
    "    },\n",
    "    \"Multan\":{\n",
    "        \"Country\":\"Pakistan\",\n",
    "        \"Population\":1871843,\n",
    "        \"Fact\":\"Multan, the City of the Saints, is a city with a rich, fascinating history and amazing people.\"\n",
    "    },\n",
    "    \"Islamabad\":{\n",
    "        \"Puntry\":\"Pakistan\",\n",
    "        \"Ppulation\":1014825,\n",
    "        \"Fct\":\"Multan, the City of the Saints, is a city with a rich, fascinating history and amazing people.\"\n",
    "    }\n",
    "}\n",
    "for citykey,cityinfo in cities.items():\n",
    "    print(\"\\n\"+citykey+\"\\n\")\n",
    "    for city in cityinfo:\n",
    "        print(city+\" : \"+str(cityinfo[city]))\n"
   ]
  },
  {
   "cell_type": "code",
   "execution_count": 3,
   "metadata": {},
   "outputs": [
    {
     "name": "stdout",
     "output_type": "stream",
     "text": [
      "Enter Age : 10\n",
      "Ticket is 10$\n",
      "Are you want to take ticket yes/no: yes\n",
      "Enter Age : 15\n",
      "Ticket is 15$\n",
      "Are you want to take ticket yes/no: yes\n",
      "Enter Age : 2\n",
      "Ticket is free\n",
      "Are you want to take ticket yes/no: no\n"
     ]
    }
   ],
   "source": [
    "flag='yes'\n",
    "while flag!='no':\n",
    "    age=int(input(\"Enter Age : \"))\n",
    "    if age>12:\n",
    "        print(\"Ticket is 15$\")\n",
    "    elif age>=3:\n",
    "        print(\"Ticket is 10$\")\n",
    "    else:\n",
    "        print(\"Ticket is free\")\n",
    "        \n",
    "    flag=input(\"Are you want to take ticket yes/no: \")\n"
   ]
  },
  {
   "cell_type": "code",
   "execution_count": 4,
   "metadata": {},
   "outputs": [
    {
     "name": "stdout",
     "output_type": "stream",
     "text": [
      "Harry Potter and the Sorcerer's Stone\n"
     ]
    }
   ],
   "source": [
    "def favorite_book(title):\n",
    "    print(title)\n",
    "book_title=\"Harry Potter and the Sorcerer's Stone\"\n",
    "if(len(book_title)!=0):\n",
    "    favorite_book(book_title)\n",
    "else:\n",
    "    print(\"Please populate the book title\")\n"
   ]
  },
  {
   "cell_type": "code",
   "execution_count": null,
   "metadata": {},
   "outputs": [],
   "source": []
  }
 ],
 "metadata": {
  "kernelspec": {
   "display_name": "Python 3",
   "language": "python",
   "name": "python3"
  },
  "language_info": {
   "codemirror_mode": {
    "name": "ipython",
    "version": 3
   },
   "file_extension": ".py",
   "mimetype": "text/x-python",
   "name": "python",
   "nbconvert_exporter": "python",
   "pygments_lexer": "ipython3",
   "version": "3.7.4"
  }
 },
 "nbformat": 4,
 "nbformat_minor": 2
}
